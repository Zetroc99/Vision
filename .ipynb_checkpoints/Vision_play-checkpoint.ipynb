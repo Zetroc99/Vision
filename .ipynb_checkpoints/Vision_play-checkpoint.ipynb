{
 "cells": [
  {
   "cell_type": "code",
   "execution_count": 22,
   "id": "fd3aaf4b",
   "metadata": {},
   "outputs": [],
   "source": [
    "import cv2\n",
    "import mediapipe as mp\n",
    "import numpy as np\n",
    "from pynput.mouse import Button, Controller as MouseController\n",
    "from pynput.keyboard import Key, Controller as KeyboardController"
   ]
  },
  {
   "cell_type": "markdown",
   "id": "745105f7",
   "metadata": {},
   "source": [
    "## TrackCV"
   ]
  },
  {
   "cell_type": "code",
   "execution_count": 5,
   "id": "2f86c08b",
   "metadata": {},
   "outputs": [],
   "source": [
    "import TrackCV as tcv"
   ]
  },
  {
   "cell_type": "code",
   "execution_count": 7,
   "id": "86d5435e",
   "metadata": {},
   "outputs": [],
   "source": [
    "pose_angles = {'Left Arm': [11,13,15], 'Right Arm': [12,14,16]}\n",
    "l_hand_angles = {'L_hand': [4,1,8]}\n",
    "r_hand_angles = {'R_hand': [4,0,20]}\n",
    "body = tcv.TrackCV(pose_angles, l_hand_angles, r_hand_angles)"
   ]
  },
  {
   "cell_type": "code",
   "execution_count": 8,
   "id": "0d4266b3",
   "metadata": {},
   "outputs": [],
   "source": [
    "body.set_show_text(True)"
   ]
  },
  {
   "cell_type": "code",
   "execution_count": 10,
   "id": "6e726b66",
   "metadata": {},
   "outputs": [],
   "source": [
    "body.track()"
   ]
  },
  {
   "cell_type": "markdown",
   "id": "a4316369",
   "metadata": {},
   "source": [
    "## Mappings"
   ]
  },
  {
   "cell_type": "code",
   "execution_count": 27,
   "id": "85f22e28",
   "metadata": {},
   "outputs": [],
   "source": [
    "mouse = MouseController()\n",
    "keyboard = KeyboardController()"
   ]
  },
  {
   "cell_type": "markdown",
   "id": "3e17db91",
   "metadata": {},
   "source": []
  },
  {
   "cell_type": "code",
   "execution_count": null,
   "id": "7baffeb1",
   "metadata": {},
   "outputs": [],
   "source": []
  }
 ],
 "metadata": {
  "kernelspec": {
   "display_name": "Python 3 (ipykernel)",
   "language": "python",
   "name": "python3"
  },
  "language_info": {
   "codemirror_mode": {
    "name": "ipython",
    "version": 3
   },
   "file_extension": ".py",
   "mimetype": "text/x-python",
   "name": "python",
   "nbconvert_exporter": "python",
   "pygments_lexer": "ipython3",
   "version": "3.9.7"
  }
 },
 "nbformat": 4,
 "nbformat_minor": 5
}
