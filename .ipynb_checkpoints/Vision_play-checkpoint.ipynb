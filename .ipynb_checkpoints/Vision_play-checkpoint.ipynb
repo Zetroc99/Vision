{
 "cells": [
  {
   "cell_type": "code",
   "execution_count": 1,
   "id": "6505b281",
   "metadata": {},
   "outputs": [],
   "source": [
    "import cv2 as cv\n",
    "import mediapipe as mp\n",
    "import numpy as np\n",
    "import time\n",
    "import pyautogui\n",
    "import pydirectinput"
   ]
  },
  {
   "cell_type": "markdown",
   "id": "745105f7",
   "metadata": {},
   "source": [
    "## TrackCV"
   ]
  },
  {
   "cell_type": "code",
   "execution_count": 2,
   "id": "2f86c08b",
   "metadata": {},
   "outputs": [],
   "source": [
    "import TrackCV as tcv"
   ]
  },
  {
   "cell_type": "code",
   "execution_count": 3,
   "id": "86d5435e",
   "metadata": {},
   "outputs": [],
   "source": [
    "pose_angles = {'Left Arm': [11,13,15], 'Right Arm': [12,14,16]}\n",
    "l_hand_angles = {'L_hand': [4,1,8]}\n",
    "r_hand_angles = {'R_hand': [4,0,20]}\n",
    "body = tcv.TrackCV(pose_angles, l_hand_angles, r_hand_angles)"
   ]
  },
  {
   "cell_type": "code",
   "execution_count": 4,
   "id": "0d4266b3",
   "metadata": {},
   "outputs": [],
   "source": [
    "body.set_show_text(True)"
   ]
  },
  {
   "cell_type": "code",
   "execution_count": 5,
   "id": "6e726b66",
   "metadata": {},
   "outputs": [],
   "source": [
    "body.track()"
   ]
  },
  {
   "cell_type": "code",
   "execution_count": 34,
   "id": "45d995c4",
   "metadata": {},
   "outputs": [],
   "source": [
    "mp_drawing = mp.solutions.drawing_utils\n",
    "mp_drawing_styles = mp.solutions.drawing_styles\n",
    "mp_holistic = mp.solutions.holistic\n",
    "cap = cv.VideoCapture(0, cv.CAP_DSHOW)\n",
    "cap.set(3, 1920)\n",
    "cap.set(4, 1080)\n",
    "\n",
    "with mp_holistic.Holistic(min_detection_confidence=0.5,\n",
    "    min_tracking_confidence=0.5) as holistic:\n",
    "    while cap.isOpened():\n",
    "        success, image = cap.read()\n",
    "        if not success:\n",
    "            print(\"Ignoring empty camera frame.\")\n",
    "            # If loading a video, use 'break' instead of 'continue'.\n",
    "            break\n",
    "\n",
    "        results = holistic.process(image)\n",
    "\n",
    "        image.flags.writeable = True\n",
    "        \n",
    "    # draw left hand\n",
    "        mp_drawing.draw_landmarks(\n",
    "            image,\n",
    "            results.left_hand_landmarks,\n",
    "            mp_holistic.HAND_CONNECTIONS,\n",
    "            landmark_drawing_spec=mp_drawing_styles.get_default_hand_landmarks_style())\n",
    "        \n",
    "    # draw right hand\n",
    "        mp_drawing.draw_landmarks(\n",
    "            image,\n",
    "            results.right_hand_landmarks,\n",
    "            mp_holistic.HAND_CONNECTIONS,\n",
    "            landmark_drawing_spec=mp_drawing_styles.get_default_hand_landmarks_style())\n",
    "        \n",
    "        \n",
    "        cv.imshow('Test', cv.flip(image, 1))\n",
    "        if cv.waitKey(1) & 0xFF == ord('q'):\n",
    "            break\n",
    "            \n",
    "cap.release()\n",
    "cv.destroyAllWindows()"
   ]
  },
  {
   "cell_type": "code",
   "execution_count": 32,
   "id": "6ce76817",
   "metadata": {},
   "outputs": [
    {
     "data": {
      "text/plain": [
       "x: 0.5536500811576843\n",
       "y: 0.24105742573738098\n",
       "z: -0.0368364155292511"
      ]
     },
     "execution_count": 32,
     "metadata": {},
     "output_type": "execute_result"
    }
   ],
   "source": [
    "results.right_hand_landmarks.landmark[8]"
   ]
  },
  {
   "cell_type": "markdown",
   "id": "7239647d",
   "metadata": {},
   "source": [
    "## Mappings"
   ]
  },
  {
   "cell_type": "code",
   "execution_count": 45,
   "id": "e807580f",
   "metadata": {},
   "outputs": [],
   "source": [
    "time.sleep(4)\n",
    "pyautogui.move(100,0, .5)"
   ]
  },
  {
   "cell_type": "code",
   "execution_count": null,
   "id": "0150fb82",
   "metadata": {},
   "outputs": [],
   "source": [
    "#xt = results.right_hand_landmarks.landmark[8].x\n",
    "#yt = results.right_hand_landmarks.landmark[8].y\n",
    "#pyautogui.moveTo(w-(xt*w), yt*h, 0.1)"
   ]
  }
 ],
 "metadata": {
  "kernelspec": {
   "display_name": "ComputerVis",
   "language": "python",
   "name": "computervis"
  },
  "language_info": {
   "codemirror_mode": {
    "name": "ipython",
    "version": 3
   },
   "file_extension": ".py",
   "mimetype": "text/x-python",
   "name": "python",
   "nbconvert_exporter": "python",
   "pygments_lexer": "ipython3",
   "version": "3.8.13"
  }
 },
 "nbformat": 4,
 "nbformat_minor": 5
}
