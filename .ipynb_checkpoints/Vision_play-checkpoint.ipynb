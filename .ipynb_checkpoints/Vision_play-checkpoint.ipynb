{
 "cells": [
  {
   "cell_type": "code",
   "execution_count": 1,
   "id": "3206b03f",
   "metadata": {},
   "outputs": [],
   "source": [
    "import cv2\n",
    "import mediapipe as mp\n",
    "import numpy as np"
   ]
  },
  {
   "cell_type": "code",
   "execution_count": 2,
   "id": "82cfc7d8",
   "metadata": {},
   "outputs": [],
   "source": [
    "mp_drawing = mp.solutions.drawing_utils\n",
    "mp_drawing_styles = mp.solutions.drawing_styles\n",
    "mp_holistic = mp.solutions.holistic"
   ]
  },
  {
   "cell_type": "markdown",
   "id": "745105f7",
   "metadata": {},
   "source": [
    "## ANGLES"
   ]
  },
  {
   "cell_type": "code",
   "execution_count": 33,
   "id": "6841dc06",
   "metadata": {},
   "outputs": [],
   "source": [
    "def calculate_angle(a,b,c):\n",
    "    a = np.array(a) # first\n",
    "    b = np.array(b) # mid\n",
    "    c = np.array(c) # end\n",
    "    \n",
    "    rad = np.arctan2(c[1]-b[1], c[0]-b[0]) - np.arctan2(a[1]-b[1], a[0]-b[0])\n",
    "    angle = np.abs(rad*180.0/np.pi)\n",
    "    \n",
    "    if angle > 180.0:\n",
    "        angle = 360-angle\n",
    "    return angle"
   ]
  },
  {
   "cell_type": "code",
   "execution_count": 34,
   "id": "73bad972",
   "metadata": {},
   "outputs": [
    {
     "data": {
      "text/plain": [
       "-1"
      ]
     },
     "execution_count": 34,
     "metadata": {},
     "output_type": "execute_result"
    }
   ],
   "source": [
    "cap = cv2.VideoCapture(0)\n",
    "with mp_holistic.Holistic(  # create holistic object\n",
    "        min_detection_confidence=0.8,\n",
    "        min_tracking_confidence=0.8) as holistic:\n",
    "    while cap.isOpened():\n",
    "        success, frame = cap.read()  # read video capture\n",
    "        cv2.startWindowThread()\n",
    "        if not success:\n",
    "            print(\"Ignoring empty camera frame.\")\n",
    "            # If loading a video, use 'break' instead of 'continue'.\n",
    "            break\n",
    "        \n",
    "        # Recolor Image\n",
    "        image = cv2.cvtColor(frame, cv2.COLOR_BGR2RGB)\n",
    "        image.flags.writeable = False\n",
    "        \n",
    "        # Make detection\n",
    "        results = holistic.process(image)\n",
    "        \n",
    "        # Recolor back to BGR\n",
    "        image = cv2.cvtColor(image, cv2.COLOR_RGB2BGR)\n",
    "        image.flags.writeable = True\n",
    "        \n",
    "        # extract landmarks\n",
    "        try:\n",
    "            lm_pose = results.pose_landmarks.landmark\n",
    "            # get coordinates\n",
    "            rshoulder = [lm_pose[mp_holistic.PoseLandmark.RIGHT_SHOULDER.value].x, \n",
    "                         lm_pose[mp_holistic.PoseLandmark.RIGHT_SHOULDER.value].y]\n",
    "            relbow = [lm_pose[mp_holistic.PoseLandmark.RIGHT_ELBOW.value].x,\n",
    "                      lm_pose[mp_holistic.PoseLandmark.RIGHT_ELBOW.value].y]\n",
    "            rwrist = [lm_pose[mp_holistic.PoseLandmark.RIGHT_WRIST.value].x,\n",
    "                      lm_pose[mp_holistic.PoseLandmark.RIGHT_WRIST.value].y]\n",
    "            # calculate angle\n",
    "            angle = calculate_angle(rshoulder, relbow, rwrist)\n",
    "            \n",
    "            # visualize\n",
    "            cv2.putText(image, str(round(angle,2)), \n",
    "                        tuple(np.multiply(relbow, [640,480]).astype(int)),\n",
    "                        cv2.FONT_HERSHEY_SIMPLEX, 0.5, (0, 0, 0), 2, cv2.LINE_AA\n",
    "                        )\n",
    "        except:\n",
    "            pass\n",
    "        try:\n",
    "            lm_lhand = results.left_hand_landamarks.landmark\n",
    "        except:\n",
    "            pass\n",
    "        try:\n",
    "            lm_rhand = results.right_hand_landmarks.landmark\n",
    "        except:\n",
    "            pass\n",
    "\n",
    "        # face\n",
    "        mp_drawing.draw_landmarks(\n",
    "            image,\n",
    "            results.face_landmarks,\n",
    "            mp_holistic.FACEMESH_CONTOURS,\n",
    "            landmark_drawing_spec=None,\n",
    "            connection_drawing_spec=mp_drawing_styles\n",
    "                .get_default_face_mesh_contours_style())\n",
    "        # pose\n",
    "        mp_drawing.draw_landmarks(\n",
    "            image,\n",
    "            results.pose_landmarks,\n",
    "            mp_holistic.POSE_CONNECTIONS,\n",
    "            landmark_drawing_spec=mp_drawing_styles\n",
    "                .get_default_pose_landmarks_style())\n",
    "        # Left hand\n",
    "        mp_drawing.draw_landmarks(\n",
    "            image,\n",
    "            results.left_hand_landmarks,\n",
    "            mp_holistic.HAND_CONNECTIONS,\n",
    "            landmark_drawing_spec=mp_drawing_styles\n",
    "                .get_default_hand_landmarks_style())\n",
    "        # Right hand\n",
    "        mp_drawing.draw_landmarks(\n",
    "            image,\n",
    "            results.right_hand_landmarks,\n",
    "            mp_holistic.HAND_CONNECTIONS,\n",
    "            landmark_drawing_spec=mp_drawing_styles\n",
    "                .get_default_hand_landmarks_style())\n",
    "\n",
    "        cv2.imshow('MediaPipe Holistic', image)\n",
    "        if cv2.waitKey(1) == ord('q'):\n",
    "            break\n",
    "            \n",
    "cap.release()\n",
    "cv2.destroyAllWindows()\n",
    "cv2.waitKey(1)"
   ]
  },
  {
   "cell_type": "code",
   "execution_count": 17,
   "id": "2f86c08b",
   "metadata": {},
   "outputs": [],
   "source": [
    "import TrackCV as tcv"
   ]
  },
  {
   "cell_type": "code",
   "execution_count": 18,
   "id": "86d5435e",
   "metadata": {},
   "outputs": [],
   "source": [
    "pose_angles = {'Left Arm': [11,13,15], 'Right Arm': [12,14,16]}\n",
    "l_hand_angles = {'L_hand': [4,1,8]}\n",
    "body = tcv.TrackCV(pose_angles, l_hand_angles)"
   ]
  },
  {
   "cell_type": "code",
   "execution_count": 21,
   "id": "0d4266b3",
   "metadata": {},
   "outputs": [],
   "source": [
    "body.set_show_text(True)"
   ]
  },
  {
   "cell_type": "code",
   "execution_count": 22,
   "id": "6e726b66",
   "metadata": {},
   "outputs": [],
   "source": [
    "body.track()"
   ]
  },
  {
   "cell_type": "code",
   "execution_count": null,
   "id": "f3758ca3",
   "metadata": {},
   "outputs": [],
   "source": []
  }
 ],
 "metadata": {
  "kernelspec": {
   "display_name": "Python 3 (ipykernel)",
   "language": "python",
   "name": "python3"
  },
  "language_info": {
   "codemirror_mode": {
    "name": "ipython",
    "version": 3
   },
   "file_extension": ".py",
   "mimetype": "text/x-python",
   "name": "python",
   "nbconvert_exporter": "python",
   "pygments_lexer": "ipython3",
   "version": "3.9.7"
  }
 },
 "nbformat": 4,
 "nbformat_minor": 5
}
